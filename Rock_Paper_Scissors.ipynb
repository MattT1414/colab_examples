{
  "nbformat": 4,
  "nbformat_minor": 0,
  "metadata": {
    "colab": {
      "provenance": [],
      "authorship_tag": "ABX9TyM+b6Ox6+xJVk21iWbrOfLD",
      "include_colab_link": true
    },
    "kernelspec": {
      "name": "python3",
      "display_name": "Python 3"
    },
    "language_info": {
      "name": "python"
    }
  },
  "cells": [
    {
      "cell_type": "markdown",
      "metadata": {
        "id": "view-in-github",
        "colab_type": "text"
      },
      "source": [
        "<a href=\"https://colab.research.google.com/github/MattT1414/colab_examples/blob/main/Rock_Paper_Scissors.ipynb\" target=\"_parent\"><img src=\"https://colab.research.google.com/assets/colab-badge.svg\" alt=\"Open In Colab\"/></a>"
      ]
    },
    {
      "cell_type": "code",
      "execution_count": null,
      "metadata": {
        "id": "xrEQA7YJvRn9",
        "colab": {
          "base_uri": "https://localhost:8080/"
        },
        "outputId": "c07e77b5-253d-4008-8063-d5d14a217619"
      },
      "outputs": [
        {
          "output_type": "stream",
          "name": "stdout",
          "text": [
            "Do you want to play Rock Paper Scissors? Y/NN\n",
            "Have a nice day.\n"
          ]
        }
      ],
      "source": [
        "import random\n",
        "pc_choice = random.choice([\"Rock\",\"Paper\",\"Scissors\"])\n",
        "beginning_input = input(\"Do you want to play Rock Paper Scissors? Y/N \")\n",
        "while beginning_input == \"Y\":\n",
        "  user_choice = input(\"Enter Rock, Paper, or Scissors: \")\n",
        "  print('PC chooses:',pc_choice)\n",
        "  print('User chooses:',user_choice)\n",
        "  if pc_choice == \"Rock\" and user_choice == \"Paper\":\n",
        "      print(\"User wins\")\n",
        "  elif pc_choice == \"Rock\" and user_choice == \"Scissors\":\n",
        "      print(\"PC wins\")\n",
        "  elif pc_choice == \"Paper\" and user_choice == \"Rock\":\n",
        "      print(\"PC wins\")\n",
        "  elif pc_choice == \"Scissors\" and user_choice == \"Paper\":\n",
        "      print(\"PC wins\")\n",
        "  elif pc_choice == \"Paper\" and user_choice == \"Scissors\":\n",
        "      print(\"User wins\")\n",
        "  elif pc_choice == \"Scissors\" and user_choice == \"Rock\":\n",
        "      print(\"User wins\")\n",
        "  elif pc_choice == user_choice:\n",
        "      print(\"It's a tie\")\n",
        "  beginning_input = input(\"Do you want to play again? Y/N \")\n",
        "if beginning_input == \"N\":\n",
        "  print('Have a nice day.')\n"
      ]
    },
    {
      "cell_type": "code",
      "source": [
        "year = int(input(\"Enter a year: \"))\n",
        "if year%4 == 0 and year%100 != 0:\n",
        "  print(\"Leap year\")\n",
        "elif year%4 == 0 and year%100 == 0 and year%400 == 0:\n",
        "  print(\"Leap year\")\n",
        "elif year%4 != 0 or year%400 != 0:\n",
        "  print(\"Not a leap year\")\n",
        "\n",
        "\n"
      ],
      "metadata": {
        "colab": {
          "base_uri": "https://localhost:8080/"
        },
        "id": "m2sbiimf3MB5",
        "outputId": "62dd1729-1c32-447a-f06d-9a38a80a1b25"
      },
      "execution_count": null,
      "outputs": [
        {
          "output_type": "stream",
          "name": "stdout",
          "text": [
            "Enter a year: 2024\n",
            "Leap year\n"
          ]
        }
      ]
    }
  ]
}