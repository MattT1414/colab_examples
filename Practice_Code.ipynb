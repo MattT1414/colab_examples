{
  "nbformat": 4,
  "nbformat_minor": 0,
  "metadata": {
    "colab": {
      "provenance": [],
      "authorship_tag": "ABX9TyM9MO/mU7DntPUQRyFfYidQ",
      "include_colab_link": true
    },
    "kernelspec": {
      "name": "python3",
      "display_name": "Python 3"
    },
    "language_info": {
      "name": "python"
    }
  },
  "cells": [
    {
      "cell_type": "markdown",
      "metadata": {
        "id": "view-in-github",
        "colab_type": "text"
      },
      "source": [
        "<a href=\"https://colab.research.google.com/github/MattT1414/colab_examples/blob/main/Practice_Code.ipynb\" target=\"_parent\"><img src=\"https://colab.research.google.com/assets/colab-badge.svg\" alt=\"Open In Colab\"/></a>"
      ]
    },
    {
      "cell_type": "code",
      "execution_count": null,
      "metadata": {
        "id": "xrEQA7YJvRn9",
        "colab": {
          "base_uri": "https://localhost:8080/"
        },
        "outputId": "c07e77b5-253d-4008-8063-d5d14a217619"
      },
      "outputs": [
        {
          "output_type": "stream",
          "name": "stdout",
          "text": [
            "Do you want to play Rock Paper Scissors? Y/NN\n",
            "Have a nice day.\n"
          ]
        }
      ],
      "source": [
        "# Rock Paper Scissors\n",
        "import random\n",
        "pc_choice = random.choice([\"Rock\",\"Paper\",\"Scissors\"])\n",
        "beginning_input = input(\"Do you want to play Rock Paper Scissors? Y/N \")\n",
        "while beginning_input == \"Y\":\n",
        "  user_choice = input(\"Enter Rock, Paper, or Scissors: \")\n",
        "  print('PC chooses:',pc_choice)\n",
        "  print('User chooses:',user_choice)\n",
        "  if pc_choice == \"Rock\" and user_choice == \"Paper\":\n",
        "      print(\"User wins\")\n",
        "  elif pc_choice == \"Rock\" and user_choice == \"Scissors\":\n",
        "      print(\"PC wins\")\n",
        "  elif pc_choice == \"Paper\" and user_choice == \"Rock\":\n",
        "      print(\"PC wins\")\n",
        "  elif pc_choice == \"Scissors\" and user_choice == \"Paper\":\n",
        "      print(\"PC wins\")\n",
        "  elif pc_choice == \"Paper\" and user_choice == \"Scissors\":\n",
        "      print(\"User wins\")\n",
        "  elif pc_choice == \"Scissors\" and user_choice == \"Rock\":\n",
        "      print(\"User wins\")\n",
        "  elif pc_choice == user_choice:\n",
        "      print(\"It's a tie\")\n",
        "  beginning_input = input(\"Do you want to play again? Y/N \")\n",
        "if beginning_input == \"N\":\n",
        "  print('Have a nice day.')\n"
      ]
    },
    {
      "cell_type": "code",
      "source": [
        "# Leap Year\n",
        "year = int(input(\"Enter a year: \"))\n",
        "if year%4 == 0 and year%100 != 0:\n",
        "  print(\"Leap year\")\n",
        "elif year%4 == 0 and year%100 == 0 and year%400 == 0:\n",
        "  print(\"Leap year\")\n",
        "elif year%4 != 0 or year%400 != 0:\n",
        "  print(\"Not a leap year\")\n",
        "\n",
        "\n"
      ],
      "metadata": {
        "colab": {
          "base_uri": "https://localhost:8080/"
        },
        "id": "m2sbiimf3MB5",
        "outputId": "62dd1729-1c32-447a-f06d-9a38a80a1b25"
      },
      "execution_count": null,
      "outputs": [
        {
          "output_type": "stream",
          "name": "stdout",
          "text": [
            "Enter a year: 2024\n",
            "Leap year\n"
          ]
        }
      ]
    },
    {
      "cell_type": "code",
      "source": [
        "# Parking Garage\n",
        "for i in range(1,9,1):\n",
        "  if i < 3:\n",
        "    print(i, 10)\n",
        "  if i == 3:\n",
        "    print(i, 12.5)\n",
        "  if i == 4:\n",
        "    print(i,15)\n",
        "  if i == 5:\n",
        "    print(i,17.5)\n",
        "  if i > 5:\n",
        "    print(i, 20)"
      ],
      "metadata": {
        "id": "pLhF7aFZtO8T"
      },
      "execution_count": null,
      "outputs": []
    },
    {
      "cell_type": "code",
      "source": [
        "# Calculator\n",
        "while 3==3:\n",
        "  number1 = float(input(\"Enter the first number: \"))\n",
        "  number2 = float(input(\"Enter the second number: \"))\n",
        "  operator = str(input(\"Addition, Subtraction, Multiplication, Division, Floor Division, Power, Modulus, or Break: \"))\n",
        "  if operator.lower() == 'break':\n",
        "    print(\"Goodbye!\")\n",
        "    break\n",
        "  elif operator == '+' or operator == 'Addition':\n",
        "    answer = (number1 + number2)\n",
        "    print(answer)\n",
        "\n",
        "  elif operator == '-' or operator == 'Subtraction':\n",
        "    answer = (number1 - number2)\n",
        "    print(answer)\n",
        "\n",
        "  elif operator == '*' or operator == 'Multiplication':\n",
        "    answer = (number1*number2)\n",
        "    print(answer)\n",
        "\n",
        "  elif operator == '/' or operator == 'Division':\n",
        "    answer = (number1/number2)\n",
        "    print(answer)\n",
        "\n",
        "  elif operator == '//' or operator == 'Floor Division':\n",
        "    answer = (number1//number2)\n",
        "    print(answer)\n",
        "\n",
        "  elif operator == '**' or operator == 'Power':\n",
        "    answer = (number1**number2)\n",
        "    print(answer)\n",
        "\n",
        "  elif operator == '%' or operator == 'Modulus':\n",
        "    answer = (number1%number2)\n",
        "    print(answer)\n",
        "\n",
        "\n"
      ],
      "metadata": {
        "id": "fZWmHS5wtPy1"
      },
      "execution_count": null,
      "outputs": []
    }
  ]
}